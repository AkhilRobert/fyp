{
 "cells": [
  {
   "cell_type": "code",
   "execution_count": null,
   "id": "90b5516b-cc59-43d7-a2c4-2cccaeea05f0",
   "metadata": {},
   "outputs": [],
   "source": []
  }
 ],
 "metadata": {
  "kernelspec": {
   "display_name": "",
   "name": ""
  },
  "language_info": {
   "name": ""
  }
 },
 "nbformat": 4,
 "nbformat_minor": 5
}
